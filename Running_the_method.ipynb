{
 "cells": [
  {
   "cell_type": "markdown",
   "metadata": {},
   "source": [
    "# This tutorial will guide you through applying the cloud identification method in a small region of the sky. \n",
    "## The method is described in Panopoulou & Lenz (2020): https://ui.adsabs.harvard.edu/abs/2020arXiv200400647P/abstract"
   ]
  },
  {
   "cell_type": "code",
   "execution_count": 34,
   "metadata": {},
   "outputs": [],
   "source": [
    "import numpy as np\n",
    "import healpy as hp\n",
    "import tables\n",
    "import matplotlib.pyplot as plt\n",
    "\n",
    "import sys\n",
    "sys.path.append('cloudcount/')\n",
    "import main\n",
    "import preprocess_functions\n",
    "import postprocess_functions\n",
    "\n",
    "import os\n",
    "import time\n",
    "import pickle\n",
    "from matplotlib.colors import LogNorm\n",
    "from mpl_toolkits.axes_grid1.inset_locator import inset_axes"
   ]
  },
  {
   "cell_type": "code",
   "execution_count": 35,
   "metadata": {},
   "outputs": [
    {
     "data": {
      "text/plain": [
       "<module 'postprocess_functions' from 'postprocess_functions.py'>"
      ]
     },
     "execution_count": 35,
     "metadata": {},
     "output_type": "execute_result"
    }
   ],
   "source": [
    "reload(postprocess_functions)"
   ]
  },
  {
   "cell_type": "code",
   "execution_count": 2,
   "metadata": {},
   "outputs": [],
   "source": [
    "# HI4PI\n",
    "CRPIX3_hi4pi= 466\n",
    "CDELT3_hi4pi = 1288.21496\n",
    "\n",
    "\n",
    "def chan2velo(channel, CRPIX3 = CRPIX3_hi4pi, CDELT3 = CDELT3_hi4pi):\n",
    "    \"\"\"\n",
    "    Convert Channel to LSR velocity in m/s\n",
    "    \"\"\"\n",
    "    return (channel - CRPIX3) * CDELT3\n"
   ]
  },
  {
   "cell_type": "markdown",
   "metadata": {},
   "source": [
    "# Parameters"
   ]
  },
  {
   "cell_type": "code",
   "execution_count": 3,
   "metadata": {},
   "outputs": [],
   "source": [
    "nside_low = 128\n",
    "nside_high  = 1024\n",
    "\n",
    "\n",
    "savedir = 'my_region/'"
   ]
  },
  {
   "cell_type": "code",
   "execution_count": 4,
   "metadata": {},
   "outputs": [],
   "source": [
    "if not os.path.exists(savedir):\n",
    "    os.mkdir(savedir)"
   ]
  },
  {
   "cell_type": "markdown",
   "metadata": {},
   "source": [
    "# Select superpixels of the region you are interested in"
   ]
  },
  {
   "cell_type": "code",
   "execution_count": 4,
   "metadata": {},
   "outputs": [],
   "source": [
    "radius = 3. # degrees\n",
    "\n",
    "l = 104.\n",
    "b = 22.\n",
    "\n",
    "v = hp.ang2vec(l, b, lonlat=True)\n",
    "area = hp.query_disc(nside_low, v, np.radians(radius),nest=True)\n",
    "\n",
    "mask_low = np.zeros(hp.nside2npix(nside_low))\n",
    "mask_low[area] = 1"
   ]
  },
  {
   "cell_type": "markdown",
   "metadata": {},
   "source": [
    "## Create list of pixels to be input to cloud finding code"
   ]
  },
  {
   "cell_type": "code",
   "execution_count": 5,
   "metadata": {},
   "outputs": [
    {
     "data": {
      "text/plain": [
       "(133,)"
      ]
     },
     "execution_count": 5,
     "metadata": {},
     "output_type": "execute_result"
    }
   ],
   "source": [
    "NSIDE_LOW_PIXELS_NEST = np.where(mask_low == 1)[0]\n",
    "\n",
    "NSIDE_LOW_PIXELS_NEST.shape"
   ]
  },
  {
   "cell_type": "markdown",
   "metadata": {},
   "source": [
    "# Step 1 of pre-processing: Collect Gaussian components of each superpixel of the region"
   ]
  },
  {
   "cell_type": "code",
   "execution_count": 7,
   "metadata": {},
   "outputs": [
    {
     "name": "stdout",
     "output_type": "stream",
     "text": [
      "'Pixel number 132 of 132'"
     ]
    }
   ],
   "source": [
    "# File that contains Gaussian decomposition\n",
    "gaussdecompfile = '/media/gin/Avocado/Datasets/gaussdec_v4.h5'\n",
    "savename = 'collected_N%d.pkl'%nside_low\n",
    "preprocess_functions.collect(nside_low, nside_high, NSIDE_LOW_PIXELS_NEST, gaussdecompfile, savedir, savename)"
   ]
  },
  {
   "cell_type": "markdown",
   "metadata": {},
   "source": [
    "# Step 2 of pre-processing: Remove Gaussians associated with noise boxes (stray radiation patterns, primarily in the EBHIS footprint, see appendix A of paper)."
   ]
  },
  {
   "cell_type": "code",
   "execution_count": 21,
   "metadata": {},
   "outputs": [
    {
     "name": "stdout",
     "output_type": "stream",
     "text": [
      "'Pixel number 132 of 132'"
     ]
    }
   ],
   "source": [
    "# Filename that stores Gaussian components per pixel\n",
    "gcfilename = savedir+'/collected_N%d.pkl'%nside_low\n",
    "# File that contains coordinates of noise squares\n",
    "noisefilename = 'Noise_squares_by_eye.txt'\n",
    "\n",
    "# Will create a mask for each superpixel and append it in the gcfilename\n",
    "preprocess_functions.clean_from_noise_squares(gcfilename, noisefilename, savedir, \\\n",
    "                                              nside_low, nside_high, CRPIX3_hi4pi, CDELT3_hi4pi)"
   ]
  },
  {
   "cell_type": "markdown",
   "metadata": {},
   "source": [
    "# Run cloud identification"
   ]
  },
  {
   "cell_type": "code",
   "execution_count": 26,
   "metadata": {},
   "outputs": [
    {
     "name": "stdout",
     "output_type": "stream",
     "text": [
      "'Pixel number 132 of 132'Took seconds: 7.3472840786\n"
     ]
    }
   ],
   "source": [
    "startt = time.time()\n",
    "\n",
    "bandwidth  = 3\n",
    "\n",
    "savename = 'collected_N%d.pkl'%nside_low\n",
    "\n",
    "\n",
    "datafile = savedir+'/'+savename\n",
    "\n",
    "SFILENAME = 'clouds_per_sqdeg_btw_%d_nside%d.pickle'%(bandwidth,nside_low)#'clouds_per_sqdeg_newminmax_kernel2.pickle'\n",
    "\n",
    "RMScut = 0.039 # (K) Gaussians with amplitude less than the noise rms level will be discarded\n",
    "\n",
    "\n",
    "\n",
    "main.run_cloud_identification(SFILENAME, savedir, datafile, RMSCUT = RMScut, SIGMACUT = 15,\\\n",
    "                         BANDWIDTH =bandwidth, RETURN_ARRS=False, REMOVE_NOISE = True)\n",
    "\n",
    "endt = time.time()\n",
    "\n",
    "print 'Took seconds:', endt-startt"
   ]
  },
  {
   "cell_type": "markdown",
   "metadata": {},
   "source": [
    "# Load the cloud data"
   ]
  },
  {
   "cell_type": "code",
   "execution_count": 27,
   "metadata": {},
   "outputs": [],
   "source": [
    "fop = open(savedir+SFILENAME)\n",
    "clouds_per_sq_deg = pickle.load(fop)"
   ]
  },
  {
   "cell_type": "markdown",
   "metadata": {},
   "source": [
    "# Post-process the output of the method to calculate cloud properties and generate maps"
   ]
  },
  {
   "cell_type": "code",
   "execution_count": 38,
   "metadata": {},
   "outputs": [
    {
     "name": "stdout",
     "output_type": "stream",
     "text": [
      "Total of 133\n",
      "132\r"
     ]
    }
   ],
   "source": [
    "# Not all 'clouds' should be used: make a velocity cut to remove HVCs (good for north sky only), make other quality cuts\n",
    "Ngauscut = 20 # discard any cloud that has less than this number of Gaussian components\n",
    "\n",
    "cmin = 411 # channel number below which clouds are probably HVC (north gal cap only) < -70 km/s\n",
    "cmax = 520 # +70\n",
    "\n",
    "NHcut = 0\n",
    "keeplow = False\n",
    "\n",
    "compute_centroid = True # The first time that you load the data, set this to true. It will compute cloud centroids\n",
    "modify_cloudlist = True\n",
    "\n",
    "kwargs = {'nside_low':nside_low,'cmin':cmin,'cmax':cmax,'Ngauscut':Ngauscut,\\\n",
    "          'NHcut':NHcut,'keeplow':keeplow,'compute_centroid':compute_centroid, \n",
    "          'modify_cloudlist':modify_cloudlist}\n",
    "\n",
    "\n",
    "Nclouds_map_lowres_noHVC, Nclouds_map_highres_noHVC, NH_map_lowres_noHVC, NH_map_highres_noHVC,\\\n",
    "    superpixel_array_noHVC, cloud_NHs_noHVC, cloud_mean_vels_noHVC, cloud_mean_sigmas_noHVC, \\\n",
    "    Nclouds_noHVC, Ngaus_noHVC, Npix_noHVC, Ngaus_per_pixel_noHVC, cloud_skewness_noHVC, \\\n",
    "    Neff_map_lowres_noHVC, skewnessmeanspec_noHVC, Nmaxima_noHVC, clouds_per_sq_deg_full = \\\n",
    "            postprocess_functions.make_arrays_vcut(clouds_per_sq_deg, **kwargs)"
   ]
  },
  {
   "cell_type": "markdown",
   "metadata": {},
   "source": [
    "## Save the new cloud dictionary (it contains cloud centroids, second moments, nmaxima, asymmetry of spectrum)"
   ]
  },
  {
   "cell_type": "code",
   "execution_count": 39,
   "metadata": {},
   "outputs": [],
   "source": [
    "SFILENAME = 'clouds_per_sqdeg_btw_4_full.pickle'\n",
    "pickle.dump(clouds_per_sq_deg_full, open(savedir+SFILENAME, 'w'))"
   ]
  },
  {
   "cell_type": "code",
   "execution_count": 40,
   "metadata": {},
   "outputs": [],
   "source": [
    "clouds_per_sq_deg_full =0"
   ]
  },
  {
   "cell_type": "markdown",
   "metadata": {},
   "source": [
    "# From now on, load in the '_full' version of the cloud data"
   ]
  },
  {
   "cell_type": "code",
   "execution_count": 41,
   "metadata": {},
   "outputs": [],
   "source": [
    "fop = open(savedir+SFILENAME)\n",
    "clouds_per_sq_deg = pickle.load(fop)"
   ]
  },
  {
   "cell_type": "markdown",
   "metadata": {},
   "source": [
    "## make maps & datasets of cloud properties"
   ]
  },
  {
   "cell_type": "code",
   "execution_count": 44,
   "metadata": {},
   "outputs": [
    {
     "name": "stdout",
     "output_type": "stream",
     "text": [
      "Total of 133\n",
      "132\r"
     ]
    }
   ],
   "source": [
    "# Not all 'clouds' should be used: make a velocity cut to remove HVCs (good for north sky only), make other quality cuts\n",
    "Ngauscut = 20 # discard any cloud that has less than this number of Gaussian components\n",
    "\n",
    "cmin = 411 # channel number below which clouds are probably HVC (north gal cap only) < -70 km/s\n",
    "cmax = 520 # +70\n",
    "\n",
    "NHcut = 0\n",
    "keeplow = False\n",
    "\n",
    "compute_centroid = False # The first time that you load the data, set this to true. It will compute cloud centroids\n",
    "modify_cloudlist = False\n",
    "\n",
    "kwargs = {'nside_low':nside_low,'cmin':cmin,'cmax':cmax,'Ngauscut':Ngauscut,\\\n",
    "          'NHcut':NHcut,'keeplow':keeplow,'compute_centroid':compute_centroid, \n",
    "          'modify_cloudlist':modify_cloudlist}\n",
    "\n",
    "\n",
    "Nclouds_map_lowres_noHVC, Nclouds_map_highres_noHVC, NH_map_lowres_noHVC, NH_map_highres_noHVC,\\\n",
    "    superpixel_array_noHVC, cloud_NHs_noHVC, cloud_mean_vels_noHVC, cloud_mean_sigmas_noHVC, \\\n",
    "    Nclouds_noHVC, Ngaus_noHVC, Npix_noHVC, Ngaus_per_pixel_noHVC, cloud_skewness_noHVC, \\\n",
    "    Neff_map_lowres_noHVC, skewnessmeanspec_noHVC, Nmaxima_noHVC = \\\n",
    "            postprocess_functions.make_arrays_vcut(clouds_per_sq_deg, **kwargs)"
   ]
  },
  {
   "cell_type": "markdown",
   "metadata": {},
   "source": [
    "# Show map of Nclouds"
   ]
  },
  {
   "cell_type": "code",
   "execution_count": 48,
   "metadata": {},
   "outputs": [
    {
     "name": "stdout",
     "output_type": "stream",
     "text": [
      "81.2475645381 98.7524354619 -8.75243546187 8.75243546187\n",
      "The interval between parallels is 10 deg 0.00'.\n",
      "The interval between meridians is 10 deg 0.00'.\n"
     ]
    },
    {
     "data": {
      "image/png": "[encoded data removed]",
      "text/plain": [
       "<Figure size 417.6x460.8 with 2 Axes>"
      ]
     },
     "metadata": {
      "needs_background": "light"
     },
     "output_type": "display_data"
    }
   ],
   "source": [
    "hp.gnomview(Neff_map_lowres_noHVC, rot = [l,b,0], reso = 1.5, xsize = 500, nest = True, cmap = 'viridis', \\\n",
    "            fig = 1, title='', unit = '$\\mathcal{N}_c$')\n",
    "hp.graticule(dmer = 10, dpar = 10)"
   ]
  },
  {
   "cell_type": "code",
   "execution_count": 50,
   "metadata": {},
   "outputs": [
    {
     "data": {
      "text/plain": [
       "u'2.0.9'"
      ]
     },
     "execution_count": 50,
     "metadata": {},
     "output_type": "execute_result"
    }
   ],
   "source": [
    "import astropy\n",
    "astropy.__version__"
   ]
  },
  {
   "cell_type": "code",
   "execution_count": 51,
   "metadata": {},
   "outputs": [
    {
     "data": {
      "text/plain": [
       "'3.4.4'"
      ]
     },
     "execution_count": 51,
     "metadata": {},
     "output_type": "execute_result"
    }
   ],
   "source": [
    "tables.__version__"
   ]
  },
  {
   "cell_type": "code",
   "execution_count": null,
   "metadata": {},
   "outputs": [],
   "source": []
  }
 ],
 "metadata": {
  "kernelspec": {
   "display_name": "Python 2",
   "language": "python",
   "name": "python2"
  },
  "language_info": {
   "codemirror_mode": {
    "name": "ipython",
    "version": 2
   },
   "file_extension": ".py",
   "mimetype": "text/x-python",
   "name": "python",
   "nbconvert_exporter": "python",
   "pygments_lexer": "ipython2",
   "version": "2.7.18"
  }
 },
 "nbformat": 4,
 "nbformat_minor": 2
}
